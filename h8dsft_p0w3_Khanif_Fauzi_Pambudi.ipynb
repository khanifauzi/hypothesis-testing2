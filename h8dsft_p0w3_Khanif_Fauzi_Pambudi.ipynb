{
  "nbformat": 4,
  "nbformat_minor": 0,
  "metadata": {
    "colab": {
      "name": "h8dsft_p0w3_Khanif_Fauzi_Pambudi.ipynb",
      "provenance": []
    },
    "kernelspec": {
      "name": "python3",
      "display_name": "Python 3"
    },
    "language_info": {
      "name": "python"
    }
  },
  "cells": [
    {
      "cell_type": "markdown",
      "metadata": {
        "id": "zoWGS5bdtqBb"
      },
      "source": [
        "# **KHANIF FAUZI PAMBUDI (GRADED CHALLENGE 3)**"
      ]
    },
    {
      "cell_type": "markdown",
      "metadata": {
        "id": "3oKzb9UKt6h2"
      },
      "source": [
        "Graded challenge ini dibuat guna mengevaluasi pembelajaran pada Hacktiv8 Data Science Fulltime Program khususnya pada practical statistics."
      ]
    },
    {
      "cell_type": "markdown",
      "metadata": {
        "id": "p41w_UA-umi2"
      },
      "source": [
        "# **MELAKUKAN PEMANGGILAN LIBRARY**"
      ]
    },
    {
      "cell_type": "code",
      "metadata": {
        "id": "xNc3MmQIudGf"
      },
      "source": [
        "import numpy as np\n",
        "import pandas as pd\n",
        "import scipy"
      ],
      "execution_count": 5,
      "outputs": []
    },
    {
      "cell_type": "markdown",
      "metadata": {
        "id": "bdEd8_M_uutd"
      },
      "source": [
        "# **DATA LOADING**"
      ]
    },
    {
      "cell_type": "markdown",
      "metadata": {
        "id": "YmFaE3fivYU3"
      },
      "source": [
        "Pada data loading kali ini terdapat 2 jenis dataset dan pada data loading 1 akan membuka data ks-project-201612.csv"
      ]
    },
    {
      "cell_type": "code",
      "metadata": {
        "colab": {
          "base_uri": "https://localhost:8080/",
          "height": 932
        },
        "id": "WGLQcW1UutIc",
        "outputId": "6220fd60-0f8a-4f08-9d26-e435a8e1e72e"
      },
      "source": [
        "df = pd.read_csv('/content/ks-projects-201801.csv')\n",
        "df"
      ],
      "execution_count": 6,
      "outputs": [
        {
          "output_type": "execute_result",
          "data": {
            "text/html": [
              "<div>\n",
              "<style scoped>\n",
              "    .dataframe tbody tr th:only-of-type {\n",
              "        vertical-align: middle;\n",
              "    }\n",
              "\n",
              "    .dataframe tbody tr th {\n",
              "        vertical-align: top;\n",
              "    }\n",
              "\n",
              "    .dataframe thead th {\n",
              "        text-align: right;\n",
              "    }\n",
              "</style>\n",
              "<table border=\"1\" class=\"dataframe\">\n",
              "  <thead>\n",
              "    <tr style=\"text-align: right;\">\n",
              "      <th></th>\n",
              "      <th>ID</th>\n",
              "      <th>name</th>\n",
              "      <th>category</th>\n",
              "      <th>main_category</th>\n",
              "      <th>currency</th>\n",
              "      <th>deadline</th>\n",
              "      <th>goal</th>\n",
              "      <th>launched</th>\n",
              "      <th>pledged</th>\n",
              "      <th>state</th>\n",
              "      <th>backers</th>\n",
              "      <th>country</th>\n",
              "      <th>usd pledged</th>\n",
              "      <th>usd_pledged_real</th>\n",
              "      <th>usd_goal_real</th>\n",
              "    </tr>\n",
              "  </thead>\n",
              "  <tbody>\n",
              "    <tr>\n",
              "      <th>0</th>\n",
              "      <td>1000002330</td>\n",
              "      <td>The Songs of Adelaide &amp; Abullah</td>\n",
              "      <td>Poetry</td>\n",
              "      <td>Publishing</td>\n",
              "      <td>GBP</td>\n",
              "      <td>2015-10-09</td>\n",
              "      <td>1000.0</td>\n",
              "      <td>2015-08-11 12:12:28</td>\n",
              "      <td>0.0</td>\n",
              "      <td>failed</td>\n",
              "      <td>0</td>\n",
              "      <td>GB</td>\n",
              "      <td>0.0</td>\n",
              "      <td>0.0</td>\n",
              "      <td>1533.95</td>\n",
              "    </tr>\n",
              "    <tr>\n",
              "      <th>1</th>\n",
              "      <td>1000003930</td>\n",
              "      <td>Greeting From Earth: ZGAC Arts Capsule For ET</td>\n",
              "      <td>Narrative Film</td>\n",
              "      <td>Film &amp; Video</td>\n",
              "      <td>USD</td>\n",
              "      <td>2017-11-01</td>\n",
              "      <td>30000.0</td>\n",
              "      <td>2017-09-02 04:43:57</td>\n",
              "      <td>2421.0</td>\n",
              "      <td>failed</td>\n",
              "      <td>15</td>\n",
              "      <td>US</td>\n",
              "      <td>100.0</td>\n",
              "      <td>2421.0</td>\n",
              "      <td>30000.00</td>\n",
              "    </tr>\n",
              "    <tr>\n",
              "      <th>2</th>\n",
              "      <td>1000004038</td>\n",
              "      <td>Where is Hank?</td>\n",
              "      <td>Narrative Film</td>\n",
              "      <td>Film &amp; Video</td>\n",
              "      <td>USD</td>\n",
              "      <td>2013-02-26</td>\n",
              "      <td>45000.0</td>\n",
              "      <td>2013-01-12 00:20:50</td>\n",
              "      <td>220.0</td>\n",
              "      <td>failed</td>\n",
              "      <td>3</td>\n",
              "      <td>US</td>\n",
              "      <td>220.0</td>\n",
              "      <td>220.0</td>\n",
              "      <td>45000.00</td>\n",
              "    </tr>\n",
              "    <tr>\n",
              "      <th>3</th>\n",
              "      <td>1000007540</td>\n",
              "      <td>ToshiCapital Rekordz Needs Help to Complete Album</td>\n",
              "      <td>Music</td>\n",
              "      <td>Music</td>\n",
              "      <td>USD</td>\n",
              "      <td>2012-04-16</td>\n",
              "      <td>5000.0</td>\n",
              "      <td>2012-03-17 03:24:11</td>\n",
              "      <td>1.0</td>\n",
              "      <td>failed</td>\n",
              "      <td>1</td>\n",
              "      <td>US</td>\n",
              "      <td>1.0</td>\n",
              "      <td>1.0</td>\n",
              "      <td>5000.00</td>\n",
              "    </tr>\n",
              "    <tr>\n",
              "      <th>4</th>\n",
              "      <td>1000011046</td>\n",
              "      <td>Community Film Project: The Art of Neighborhoo...</td>\n",
              "      <td>Film &amp; Video</td>\n",
              "      <td>Film &amp; Video</td>\n",
              "      <td>USD</td>\n",
              "      <td>2015-08-29</td>\n",
              "      <td>19500.0</td>\n",
              "      <td>2015-07-04 08:35:03</td>\n",
              "      <td>1283.0</td>\n",
              "      <td>canceled</td>\n",
              "      <td>14</td>\n",
              "      <td>US</td>\n",
              "      <td>1283.0</td>\n",
              "      <td>1283.0</td>\n",
              "      <td>19500.00</td>\n",
              "    </tr>\n",
              "    <tr>\n",
              "      <th>...</th>\n",
              "      <td>...</td>\n",
              "      <td>...</td>\n",
              "      <td>...</td>\n",
              "      <td>...</td>\n",
              "      <td>...</td>\n",
              "      <td>...</td>\n",
              "      <td>...</td>\n",
              "      <td>...</td>\n",
              "      <td>...</td>\n",
              "      <td>...</td>\n",
              "      <td>...</td>\n",
              "      <td>...</td>\n",
              "      <td>...</td>\n",
              "      <td>...</td>\n",
              "      <td>...</td>\n",
              "    </tr>\n",
              "    <tr>\n",
              "      <th>378656</th>\n",
              "      <td>999976400</td>\n",
              "      <td>ChknTruk Nationwide Charity Drive 2014 (Canceled)</td>\n",
              "      <td>Documentary</td>\n",
              "      <td>Film &amp; Video</td>\n",
              "      <td>USD</td>\n",
              "      <td>2014-10-17</td>\n",
              "      <td>50000.0</td>\n",
              "      <td>2014-09-17 02:35:30</td>\n",
              "      <td>25.0</td>\n",
              "      <td>canceled</td>\n",
              "      <td>1</td>\n",
              "      <td>US</td>\n",
              "      <td>25.0</td>\n",
              "      <td>25.0</td>\n",
              "      <td>50000.00</td>\n",
              "    </tr>\n",
              "    <tr>\n",
              "      <th>378657</th>\n",
              "      <td>999977640</td>\n",
              "      <td>The Tribe</td>\n",
              "      <td>Narrative Film</td>\n",
              "      <td>Film &amp; Video</td>\n",
              "      <td>USD</td>\n",
              "      <td>2011-07-19</td>\n",
              "      <td>1500.0</td>\n",
              "      <td>2011-06-22 03:35:14</td>\n",
              "      <td>155.0</td>\n",
              "      <td>failed</td>\n",
              "      <td>5</td>\n",
              "      <td>US</td>\n",
              "      <td>155.0</td>\n",
              "      <td>155.0</td>\n",
              "      <td>1500.00</td>\n",
              "    </tr>\n",
              "    <tr>\n",
              "      <th>378658</th>\n",
              "      <td>999986353</td>\n",
              "      <td>Walls of Remedy- New lesbian Romantic Comedy f...</td>\n",
              "      <td>Narrative Film</td>\n",
              "      <td>Film &amp; Video</td>\n",
              "      <td>USD</td>\n",
              "      <td>2010-08-16</td>\n",
              "      <td>15000.0</td>\n",
              "      <td>2010-07-01 19:40:30</td>\n",
              "      <td>20.0</td>\n",
              "      <td>failed</td>\n",
              "      <td>1</td>\n",
              "      <td>US</td>\n",
              "      <td>20.0</td>\n",
              "      <td>20.0</td>\n",
              "      <td>15000.00</td>\n",
              "    </tr>\n",
              "    <tr>\n",
              "      <th>378659</th>\n",
              "      <td>999987933</td>\n",
              "      <td>BioDefense Education Kit</td>\n",
              "      <td>Technology</td>\n",
              "      <td>Technology</td>\n",
              "      <td>USD</td>\n",
              "      <td>2016-02-13</td>\n",
              "      <td>15000.0</td>\n",
              "      <td>2016-01-13 18:13:53</td>\n",
              "      <td>200.0</td>\n",
              "      <td>failed</td>\n",
              "      <td>6</td>\n",
              "      <td>US</td>\n",
              "      <td>200.0</td>\n",
              "      <td>200.0</td>\n",
              "      <td>15000.00</td>\n",
              "    </tr>\n",
              "    <tr>\n",
              "      <th>378660</th>\n",
              "      <td>999988282</td>\n",
              "      <td>Nou Renmen Ayiti!  We Love Haiti!</td>\n",
              "      <td>Performance Art</td>\n",
              "      <td>Art</td>\n",
              "      <td>USD</td>\n",
              "      <td>2011-08-16</td>\n",
              "      <td>2000.0</td>\n",
              "      <td>2011-07-19 09:07:47</td>\n",
              "      <td>524.0</td>\n",
              "      <td>failed</td>\n",
              "      <td>17</td>\n",
              "      <td>US</td>\n",
              "      <td>524.0</td>\n",
              "      <td>524.0</td>\n",
              "      <td>2000.00</td>\n",
              "    </tr>\n",
              "  </tbody>\n",
              "</table>\n",
              "<p>378661 rows × 15 columns</p>\n",
              "</div>"
            ],
            "text/plain": [
              "                ID  ... usd_goal_real\n",
              "0       1000002330  ...       1533.95\n",
              "1       1000003930  ...      30000.00\n",
              "2       1000004038  ...      45000.00\n",
              "3       1000007540  ...       5000.00\n",
              "4       1000011046  ...      19500.00\n",
              "...            ...  ...           ...\n",
              "378656   999976400  ...      50000.00\n",
              "378657   999977640  ...       1500.00\n",
              "378658   999986353  ...      15000.00\n",
              "378659   999987933  ...      15000.00\n",
              "378660   999988282  ...       2000.00\n",
              "\n",
              "[378661 rows x 15 columns]"
            ]
          },
          "metadata": {
            "tags": []
          },
          "execution_count": 6
        }
      ]
    },
    {
      "cell_type": "markdown",
      "metadata": {
        "id": "Q26qwd00y4ov"
      },
      "source": [
        "# **DATA EXPLORATION**"
      ]
    },
    {
      "cell_type": "markdown",
      "metadata": {
        "id": "Hms0i6z1zBSL"
      },
      "source": [
        "Pada data exploration disini akan dilakukan mengecek apakah ada kolom yang tgerdapat missing value nya atau tidak"
      ]
    },
    {
      "cell_type": "code",
      "metadata": {
        "colab": {
          "base_uri": "https://localhost:8080/"
        },
        "id": "Hwz5p9Bkzkcj",
        "outputId": "4705723e-eb2c-4a5f-b577-3ef97ed59cda"
      },
      "source": [
        "len(df)"
      ],
      "execution_count": 7,
      "outputs": [
        {
          "output_type": "execute_result",
          "data": {
            "text/plain": [
              "378661"
            ]
          },
          "metadata": {
            "tags": []
          },
          "execution_count": 7
        }
      ]
    },
    {
      "cell_type": "code",
      "metadata": {
        "colab": {
          "base_uri": "https://localhost:8080/"
        },
        "id": "7Hxwez7wzvdW",
        "outputId": "2f6a893f-beac-4fdd-a741-a40fca9366c2"
      },
      "source": [
        "df.shape"
      ],
      "execution_count": 8,
      "outputs": [
        {
          "output_type": "execute_result",
          "data": {
            "text/plain": [
              "(378661, 15)"
            ]
          },
          "metadata": {
            "tags": []
          },
          "execution_count": 8
        }
      ]
    },
    {
      "cell_type": "code",
      "metadata": {
        "colab": {
          "base_uri": "https://localhost:8080/",
          "height": 479
        },
        "id": "15jn_BaBzJNo",
        "outputId": "01935802-aa84-433c-bbc4-77504877e366"
      },
      "source": [
        "df.head()"
      ],
      "execution_count": 9,
      "outputs": [
        {
          "output_type": "execute_result",
          "data": {
            "text/html": [
              "<div>\n",
              "<style scoped>\n",
              "    .dataframe tbody tr th:only-of-type {\n",
              "        vertical-align: middle;\n",
              "    }\n",
              "\n",
              "    .dataframe tbody tr th {\n",
              "        vertical-align: top;\n",
              "    }\n",
              "\n",
              "    .dataframe thead th {\n",
              "        text-align: right;\n",
              "    }\n",
              "</style>\n",
              "<table border=\"1\" class=\"dataframe\">\n",
              "  <thead>\n",
              "    <tr style=\"text-align: right;\">\n",
              "      <th></th>\n",
              "      <th>ID</th>\n",
              "      <th>name</th>\n",
              "      <th>category</th>\n",
              "      <th>main_category</th>\n",
              "      <th>currency</th>\n",
              "      <th>deadline</th>\n",
              "      <th>goal</th>\n",
              "      <th>launched</th>\n",
              "      <th>pledged</th>\n",
              "      <th>state</th>\n",
              "      <th>backers</th>\n",
              "      <th>country</th>\n",
              "      <th>usd pledged</th>\n",
              "      <th>usd_pledged_real</th>\n",
              "      <th>usd_goal_real</th>\n",
              "    </tr>\n",
              "  </thead>\n",
              "  <tbody>\n",
              "    <tr>\n",
              "      <th>0</th>\n",
              "      <td>1000002330</td>\n",
              "      <td>The Songs of Adelaide &amp; Abullah</td>\n",
              "      <td>Poetry</td>\n",
              "      <td>Publishing</td>\n",
              "      <td>GBP</td>\n",
              "      <td>2015-10-09</td>\n",
              "      <td>1000.0</td>\n",
              "      <td>2015-08-11 12:12:28</td>\n",
              "      <td>0.0</td>\n",
              "      <td>failed</td>\n",
              "      <td>0</td>\n",
              "      <td>GB</td>\n",
              "      <td>0.0</td>\n",
              "      <td>0.0</td>\n",
              "      <td>1533.95</td>\n",
              "    </tr>\n",
              "    <tr>\n",
              "      <th>1</th>\n",
              "      <td>1000003930</td>\n",
              "      <td>Greeting From Earth: ZGAC Arts Capsule For ET</td>\n",
              "      <td>Narrative Film</td>\n",
              "      <td>Film &amp; Video</td>\n",
              "      <td>USD</td>\n",
              "      <td>2017-11-01</td>\n",
              "      <td>30000.0</td>\n",
              "      <td>2017-09-02 04:43:57</td>\n",
              "      <td>2421.0</td>\n",
              "      <td>failed</td>\n",
              "      <td>15</td>\n",
              "      <td>US</td>\n",
              "      <td>100.0</td>\n",
              "      <td>2421.0</td>\n",
              "      <td>30000.00</td>\n",
              "    </tr>\n",
              "    <tr>\n",
              "      <th>2</th>\n",
              "      <td>1000004038</td>\n",
              "      <td>Where is Hank?</td>\n",
              "      <td>Narrative Film</td>\n",
              "      <td>Film &amp; Video</td>\n",
              "      <td>USD</td>\n",
              "      <td>2013-02-26</td>\n",
              "      <td>45000.0</td>\n",
              "      <td>2013-01-12 00:20:50</td>\n",
              "      <td>220.0</td>\n",
              "      <td>failed</td>\n",
              "      <td>3</td>\n",
              "      <td>US</td>\n",
              "      <td>220.0</td>\n",
              "      <td>220.0</td>\n",
              "      <td>45000.00</td>\n",
              "    </tr>\n",
              "    <tr>\n",
              "      <th>3</th>\n",
              "      <td>1000007540</td>\n",
              "      <td>ToshiCapital Rekordz Needs Help to Complete Album</td>\n",
              "      <td>Music</td>\n",
              "      <td>Music</td>\n",
              "      <td>USD</td>\n",
              "      <td>2012-04-16</td>\n",
              "      <td>5000.0</td>\n",
              "      <td>2012-03-17 03:24:11</td>\n",
              "      <td>1.0</td>\n",
              "      <td>failed</td>\n",
              "      <td>1</td>\n",
              "      <td>US</td>\n",
              "      <td>1.0</td>\n",
              "      <td>1.0</td>\n",
              "      <td>5000.00</td>\n",
              "    </tr>\n",
              "    <tr>\n",
              "      <th>4</th>\n",
              "      <td>1000011046</td>\n",
              "      <td>Community Film Project: The Art of Neighborhoo...</td>\n",
              "      <td>Film &amp; Video</td>\n",
              "      <td>Film &amp; Video</td>\n",
              "      <td>USD</td>\n",
              "      <td>2015-08-29</td>\n",
              "      <td>19500.0</td>\n",
              "      <td>2015-07-04 08:35:03</td>\n",
              "      <td>1283.0</td>\n",
              "      <td>canceled</td>\n",
              "      <td>14</td>\n",
              "      <td>US</td>\n",
              "      <td>1283.0</td>\n",
              "      <td>1283.0</td>\n",
              "      <td>19500.00</td>\n",
              "    </tr>\n",
              "  </tbody>\n",
              "</table>\n",
              "</div>"
            ],
            "text/plain": [
              "           ID  ... usd_goal_real\n",
              "0  1000002330  ...       1533.95\n",
              "1  1000003930  ...      30000.00\n",
              "2  1000004038  ...      45000.00\n",
              "3  1000007540  ...       5000.00\n",
              "4  1000011046  ...      19500.00\n",
              "\n",
              "[5 rows x 15 columns]"
            ]
          },
          "metadata": {
            "tags": []
          },
          "execution_count": 9
        }
      ]
    },
    {
      "cell_type": "code",
      "metadata": {
        "colab": {
          "base_uri": "https://localhost:8080/",
          "height": 513
        },
        "id": "H-PAtCyTzqQx",
        "outputId": "14850109-597b-4f38-a4ea-c1c37f198796"
      },
      "source": [
        "df.tail()"
      ],
      "execution_count": 10,
      "outputs": [
        {
          "output_type": "execute_result",
          "data": {
            "text/html": [
              "<div>\n",
              "<style scoped>\n",
              "    .dataframe tbody tr th:only-of-type {\n",
              "        vertical-align: middle;\n",
              "    }\n",
              "\n",
              "    .dataframe tbody tr th {\n",
              "        vertical-align: top;\n",
              "    }\n",
              "\n",
              "    .dataframe thead th {\n",
              "        text-align: right;\n",
              "    }\n",
              "</style>\n",
              "<table border=\"1\" class=\"dataframe\">\n",
              "  <thead>\n",
              "    <tr style=\"text-align: right;\">\n",
              "      <th></th>\n",
              "      <th>ID</th>\n",
              "      <th>name</th>\n",
              "      <th>category</th>\n",
              "      <th>main_category</th>\n",
              "      <th>currency</th>\n",
              "      <th>deadline</th>\n",
              "      <th>goal</th>\n",
              "      <th>launched</th>\n",
              "      <th>pledged</th>\n",
              "      <th>state</th>\n",
              "      <th>backers</th>\n",
              "      <th>country</th>\n",
              "      <th>usd pledged</th>\n",
              "      <th>usd_pledged_real</th>\n",
              "      <th>usd_goal_real</th>\n",
              "    </tr>\n",
              "  </thead>\n",
              "  <tbody>\n",
              "    <tr>\n",
              "      <th>378656</th>\n",
              "      <td>999976400</td>\n",
              "      <td>ChknTruk Nationwide Charity Drive 2014 (Canceled)</td>\n",
              "      <td>Documentary</td>\n",
              "      <td>Film &amp; Video</td>\n",
              "      <td>USD</td>\n",
              "      <td>2014-10-17</td>\n",
              "      <td>50000.0</td>\n",
              "      <td>2014-09-17 02:35:30</td>\n",
              "      <td>25.0</td>\n",
              "      <td>canceled</td>\n",
              "      <td>1</td>\n",
              "      <td>US</td>\n",
              "      <td>25.0</td>\n",
              "      <td>25.0</td>\n",
              "      <td>50000.0</td>\n",
              "    </tr>\n",
              "    <tr>\n",
              "      <th>378657</th>\n",
              "      <td>999977640</td>\n",
              "      <td>The Tribe</td>\n",
              "      <td>Narrative Film</td>\n",
              "      <td>Film &amp; Video</td>\n",
              "      <td>USD</td>\n",
              "      <td>2011-07-19</td>\n",
              "      <td>1500.0</td>\n",
              "      <td>2011-06-22 03:35:14</td>\n",
              "      <td>155.0</td>\n",
              "      <td>failed</td>\n",
              "      <td>5</td>\n",
              "      <td>US</td>\n",
              "      <td>155.0</td>\n",
              "      <td>155.0</td>\n",
              "      <td>1500.0</td>\n",
              "    </tr>\n",
              "    <tr>\n",
              "      <th>378658</th>\n",
              "      <td>999986353</td>\n",
              "      <td>Walls of Remedy- New lesbian Romantic Comedy f...</td>\n",
              "      <td>Narrative Film</td>\n",
              "      <td>Film &amp; Video</td>\n",
              "      <td>USD</td>\n",
              "      <td>2010-08-16</td>\n",
              "      <td>15000.0</td>\n",
              "      <td>2010-07-01 19:40:30</td>\n",
              "      <td>20.0</td>\n",
              "      <td>failed</td>\n",
              "      <td>1</td>\n",
              "      <td>US</td>\n",
              "      <td>20.0</td>\n",
              "      <td>20.0</td>\n",
              "      <td>15000.0</td>\n",
              "    </tr>\n",
              "    <tr>\n",
              "      <th>378659</th>\n",
              "      <td>999987933</td>\n",
              "      <td>BioDefense Education Kit</td>\n",
              "      <td>Technology</td>\n",
              "      <td>Technology</td>\n",
              "      <td>USD</td>\n",
              "      <td>2016-02-13</td>\n",
              "      <td>15000.0</td>\n",
              "      <td>2016-01-13 18:13:53</td>\n",
              "      <td>200.0</td>\n",
              "      <td>failed</td>\n",
              "      <td>6</td>\n",
              "      <td>US</td>\n",
              "      <td>200.0</td>\n",
              "      <td>200.0</td>\n",
              "      <td>15000.0</td>\n",
              "    </tr>\n",
              "    <tr>\n",
              "      <th>378660</th>\n",
              "      <td>999988282</td>\n",
              "      <td>Nou Renmen Ayiti!  We Love Haiti!</td>\n",
              "      <td>Performance Art</td>\n",
              "      <td>Art</td>\n",
              "      <td>USD</td>\n",
              "      <td>2011-08-16</td>\n",
              "      <td>2000.0</td>\n",
              "      <td>2011-07-19 09:07:47</td>\n",
              "      <td>524.0</td>\n",
              "      <td>failed</td>\n",
              "      <td>17</td>\n",
              "      <td>US</td>\n",
              "      <td>524.0</td>\n",
              "      <td>524.0</td>\n",
              "      <td>2000.0</td>\n",
              "    </tr>\n",
              "  </tbody>\n",
              "</table>\n",
              "</div>"
            ],
            "text/plain": [
              "               ID  ... usd_goal_real\n",
              "378656  999976400  ...       50000.0\n",
              "378657  999977640  ...        1500.0\n",
              "378658  999986353  ...       15000.0\n",
              "378659  999987933  ...       15000.0\n",
              "378660  999988282  ...        2000.0\n",
              "\n",
              "[5 rows x 15 columns]"
            ]
          },
          "metadata": {
            "tags": []
          },
          "execution_count": 10
        }
      ]
    },
    {
      "cell_type": "code",
      "metadata": {
        "colab": {
          "base_uri": "https://localhost:8080/"
        },
        "id": "JQhNJ0OxzynD",
        "outputId": "841d9665-c0c3-4a47-8e2d-5f91bd1b84c0"
      },
      "source": [
        "df.info()"
      ],
      "execution_count": 11,
      "outputs": [
        {
          "output_type": "stream",
          "text": [
            "<class 'pandas.core.frame.DataFrame'>\n",
            "RangeIndex: 378661 entries, 0 to 378660\n",
            "Data columns (total 15 columns):\n",
            " #   Column            Non-Null Count   Dtype  \n",
            "---  ------            --------------   -----  \n",
            " 0   ID                378661 non-null  int64  \n",
            " 1   name              378657 non-null  object \n",
            " 2   category          378661 non-null  object \n",
            " 3   main_category     378661 non-null  object \n",
            " 4   currency          378661 non-null  object \n",
            " 5   deadline          378661 non-null  object \n",
            " 6   goal              378661 non-null  float64\n",
            " 7   launched          378661 non-null  object \n",
            " 8   pledged           378661 non-null  float64\n",
            " 9   state             378661 non-null  object \n",
            " 10  backers           378661 non-null  int64  \n",
            " 11  country           378661 non-null  object \n",
            " 12  usd pledged       374864 non-null  float64\n",
            " 13  usd_pledged_real  378661 non-null  float64\n",
            " 14  usd_goal_real     378661 non-null  float64\n",
            "dtypes: float64(5), int64(2), object(8)\n",
            "memory usage: 43.3+ MB\n"
          ],
          "name": "stdout"
        }
      ]
    },
    {
      "cell_type": "code",
      "metadata": {
        "colab": {
          "base_uri": "https://localhost:8080/",
          "height": 297
        },
        "id": "DJVclITVS-s9",
        "outputId": "3557b24b-f46f-44ea-a647-7dcdd54f838c"
      },
      "source": [
        "df.describe()"
      ],
      "execution_count": 12,
      "outputs": [
        {
          "output_type": "execute_result",
          "data": {
            "text/html": [
              "<div>\n",
              "<style scoped>\n",
              "    .dataframe tbody tr th:only-of-type {\n",
              "        vertical-align: middle;\n",
              "    }\n",
              "\n",
              "    .dataframe tbody tr th {\n",
              "        vertical-align: top;\n",
              "    }\n",
              "\n",
              "    .dataframe thead th {\n",
              "        text-align: right;\n",
              "    }\n",
              "</style>\n",
              "<table border=\"1\" class=\"dataframe\">\n",
              "  <thead>\n",
              "    <tr style=\"text-align: right;\">\n",
              "      <th></th>\n",
              "      <th>ID</th>\n",
              "      <th>goal</th>\n",
              "      <th>pledged</th>\n",
              "      <th>backers</th>\n",
              "      <th>usd pledged</th>\n",
              "      <th>usd_pledged_real</th>\n",
              "      <th>usd_goal_real</th>\n",
              "    </tr>\n",
              "  </thead>\n",
              "  <tbody>\n",
              "    <tr>\n",
              "      <th>count</th>\n",
              "      <td>3.786610e+05</td>\n",
              "      <td>3.786610e+05</td>\n",
              "      <td>3.786610e+05</td>\n",
              "      <td>378661.000000</td>\n",
              "      <td>3.748640e+05</td>\n",
              "      <td>3.786610e+05</td>\n",
              "      <td>3.786610e+05</td>\n",
              "    </tr>\n",
              "    <tr>\n",
              "      <th>mean</th>\n",
              "      <td>1.074731e+09</td>\n",
              "      <td>4.908079e+04</td>\n",
              "      <td>9.682979e+03</td>\n",
              "      <td>105.617476</td>\n",
              "      <td>7.036729e+03</td>\n",
              "      <td>9.058924e+03</td>\n",
              "      <td>4.545440e+04</td>\n",
              "    </tr>\n",
              "    <tr>\n",
              "      <th>std</th>\n",
              "      <td>6.190862e+08</td>\n",
              "      <td>1.183391e+06</td>\n",
              "      <td>9.563601e+04</td>\n",
              "      <td>907.185035</td>\n",
              "      <td>7.863975e+04</td>\n",
              "      <td>9.097334e+04</td>\n",
              "      <td>1.152950e+06</td>\n",
              "    </tr>\n",
              "    <tr>\n",
              "      <th>min</th>\n",
              "      <td>5.971000e+03</td>\n",
              "      <td>1.000000e-02</td>\n",
              "      <td>0.000000e+00</td>\n",
              "      <td>0.000000</td>\n",
              "      <td>0.000000e+00</td>\n",
              "      <td>0.000000e+00</td>\n",
              "      <td>1.000000e-02</td>\n",
              "    </tr>\n",
              "    <tr>\n",
              "      <th>25%</th>\n",
              "      <td>5.382635e+08</td>\n",
              "      <td>2.000000e+03</td>\n",
              "      <td>3.000000e+01</td>\n",
              "      <td>2.000000</td>\n",
              "      <td>1.698000e+01</td>\n",
              "      <td>3.100000e+01</td>\n",
              "      <td>2.000000e+03</td>\n",
              "    </tr>\n",
              "    <tr>\n",
              "      <th>50%</th>\n",
              "      <td>1.075276e+09</td>\n",
              "      <td>5.200000e+03</td>\n",
              "      <td>6.200000e+02</td>\n",
              "      <td>12.000000</td>\n",
              "      <td>3.947200e+02</td>\n",
              "      <td>6.243300e+02</td>\n",
              "      <td>5.500000e+03</td>\n",
              "    </tr>\n",
              "    <tr>\n",
              "      <th>75%</th>\n",
              "      <td>1.610149e+09</td>\n",
              "      <td>1.600000e+04</td>\n",
              "      <td>4.076000e+03</td>\n",
              "      <td>56.000000</td>\n",
              "      <td>3.034090e+03</td>\n",
              "      <td>4.050000e+03</td>\n",
              "      <td>1.550000e+04</td>\n",
              "    </tr>\n",
              "    <tr>\n",
              "      <th>max</th>\n",
              "      <td>2.147476e+09</td>\n",
              "      <td>1.000000e+08</td>\n",
              "      <td>2.033899e+07</td>\n",
              "      <td>219382.000000</td>\n",
              "      <td>2.033899e+07</td>\n",
              "      <td>2.033899e+07</td>\n",
              "      <td>1.663614e+08</td>\n",
              "    </tr>\n",
              "  </tbody>\n",
              "</table>\n",
              "</div>"
            ],
            "text/plain": [
              "                 ID          goal  ...  usd_pledged_real  usd_goal_real\n",
              "count  3.786610e+05  3.786610e+05  ...      3.786610e+05   3.786610e+05\n",
              "mean   1.074731e+09  4.908079e+04  ...      9.058924e+03   4.545440e+04\n",
              "std    6.190862e+08  1.183391e+06  ...      9.097334e+04   1.152950e+06\n",
              "min    5.971000e+03  1.000000e-02  ...      0.000000e+00   1.000000e-02\n",
              "25%    5.382635e+08  2.000000e+03  ...      3.100000e+01   2.000000e+03\n",
              "50%    1.075276e+09  5.200000e+03  ...      6.243300e+02   5.500000e+03\n",
              "75%    1.610149e+09  1.600000e+04  ...      4.050000e+03   1.550000e+04\n",
              "max    2.147476e+09  1.000000e+08  ...      2.033899e+07   1.663614e+08\n",
              "\n",
              "[8 rows x 7 columns]"
            ]
          },
          "metadata": {
            "tags": []
          },
          "execution_count": 12
        }
      ]
    },
    {
      "cell_type": "markdown",
      "metadata": {
        "id": "-ZQJ9YQprgeg"
      },
      "source": [
        "# **DATA PREPROCESSING**"
      ]
    },
    {
      "cell_type": "markdown",
      "metadata": {
        "id": "6kI1vMZspxnp"
      },
      "source": [
        "# **MENGECEK MISSING VALUE**"
      ]
    },
    {
      "cell_type": "code",
      "metadata": {
        "colab": {
          "base_uri": "https://localhost:8080/"
        },
        "id": "PBDKITLMz7wr",
        "outputId": "66ac877f-a67a-4c16-cd47-f28501c9aca0"
      },
      "source": [
        "df.isna().sum()"
      ],
      "execution_count": 13,
      "outputs": [
        {
          "output_type": "execute_result",
          "data": {
            "text/plain": [
              "ID                     0\n",
              "name                   4\n",
              "category               0\n",
              "main_category          0\n",
              "currency               0\n",
              "deadline               0\n",
              "goal                   0\n",
              "launched               0\n",
              "pledged                0\n",
              "state                  0\n",
              "backers                0\n",
              "country                0\n",
              "usd pledged         3797\n",
              "usd_pledged_real       0\n",
              "usd_goal_real          0\n",
              "dtype: int64"
            ]
          },
          "metadata": {
            "tags": []
          },
          "execution_count": 13
        }
      ]
    },
    {
      "cell_type": "markdown",
      "metadata": {
        "id": "5VGqdwbUp2bY"
      },
      "source": [
        "# **MENGHAPUS KOLOM USD PLEDGE**"
      ]
    },
    {
      "cell_type": "markdown",
      "metadata": {
        "id": "piXeXLVuqBHG"
      },
      "source": [
        "Menghapus kolom merupakan salah satu cara untuk menghilangkan missing value. Pemilihan kolom usd pledge untuk dihapus karena terdapat kolom usd_pledged_real sehingga untuk memproses dataframe ini menggunakan kolom tersebut dan membuang kolom yang tidak digunakan yaitu usd pledged"
      ]
    },
    {
      "cell_type": "code",
      "metadata": {
        "id": "KkTIcG6HpWAY"
      },
      "source": [
        "usdpledged_column =['usd pledged']\n",
        "df.drop(usdpledged_column, inplace=True, axis=1)"
      ],
      "execution_count": 14,
      "outputs": []
    },
    {
      "cell_type": "markdown",
      "metadata": {
        "id": "YqN2x5mWqVc7"
      },
      "source": [
        "setelah melakukan penghapusan kolom kemudian dicek kembali untuk melihat bahwasannya missing value sudah teratasi"
      ]
    },
    {
      "cell_type": "code",
      "metadata": {
        "colab": {
          "base_uri": "https://localhost:8080/"
        },
        "id": "ZfXOremCo8R0",
        "outputId": "d049fdae-3c82-43e1-90cc-ccfb9e4ff406"
      },
      "source": [
        "df.isna().sum()"
      ],
      "execution_count": 15,
      "outputs": [
        {
          "output_type": "execute_result",
          "data": {
            "text/plain": [
              "ID                  0\n",
              "name                4\n",
              "category            0\n",
              "main_category       0\n",
              "currency            0\n",
              "deadline            0\n",
              "goal                0\n",
              "launched            0\n",
              "pledged             0\n",
              "state               0\n",
              "backers             0\n",
              "country             0\n",
              "usd_pledged_real    0\n",
              "usd_goal_real       0\n",
              "dtype: int64"
            ]
          },
          "metadata": {
            "tags": []
          },
          "execution_count": 15
        }
      ]
    },
    {
      "cell_type": "markdown",
      "metadata": {
        "id": "950RjHi0rruW"
      },
      "source": [
        "# **CENTRAL TENDENCY**"
      ]
    },
    {
      "cell_type": "markdown",
      "metadata": {
        "id": "Qt5jGtkOQ1Ms"
      },
      "source": [
        "# **MENCARI MEAN**"
      ]
    },
    {
      "cell_type": "code",
      "metadata": {
        "colab": {
          "base_uri": "https://localhost:8080/"
        },
        "id": "E-QnF9q5QA2H",
        "outputId": "358d36e6-2219-4a96-e1c6-482736210e0b"
      },
      "source": [
        "backer = df[\"backers\"]\n",
        "np.mean(backer)"
      ],
      "execution_count": 16,
      "outputs": [
        {
          "output_type": "execute_result",
          "data": {
            "text/plain": [
              "105.61747578969052"
            ]
          },
          "metadata": {
            "tags": []
          },
          "execution_count": 16
        }
      ]
    },
    {
      "cell_type": "code",
      "metadata": {
        "colab": {
          "base_uri": "https://localhost:8080/"
        },
        "id": "7hiAwYIRQOdm",
        "outputId": "4285576f-d70e-40b0-80ca-67f6f6593944"
      },
      "source": [
        "pledge = df[\"pledged\"]\n",
        "np.mean(pledge)"
      ],
      "execution_count": 17,
      "outputs": [
        {
          "output_type": "execute_result",
          "data": {
            "text/plain": [
              "9682.97933946224"
            ]
          },
          "metadata": {
            "tags": []
          },
          "execution_count": 17
        }
      ]
    },
    {
      "cell_type": "code",
      "metadata": {
        "colab": {
          "base_uri": "https://localhost:8080/"
        },
        "id": "a9oDk2HhTV2U",
        "outputId": "22f06938-0f62-491b-f1c5-5d0b51a68645"
      },
      "source": [
        "df['pledged'].describe()['mean']"
      ],
      "execution_count": 18,
      "outputs": [
        {
          "output_type": "execute_result",
          "data": {
            "text/plain": [
              "9682.97933946224"
            ]
          },
          "metadata": {
            "tags": []
          },
          "execution_count": 18
        }
      ]
    },
    {
      "cell_type": "code",
      "metadata": {
        "colab": {
          "base_uri": "https://localhost:8080/"
        },
        "id": "BvVT-6vOZyQn",
        "outputId": "428baed6-ca8f-419e-f66b-038bb59abba4"
      },
      "source": [
        "df.goal.mean()"
      ],
      "execution_count": 19,
      "outputs": [
        {
          "output_type": "execute_result",
          "data": {
            "text/plain": [
              "49080.79152056854"
            ]
          },
          "metadata": {
            "tags": []
          },
          "execution_count": 19
        }
      ]
    },
    {
      "cell_type": "markdown",
      "metadata": {
        "id": "03Svj8nfQ5nt"
      },
      "source": [
        "# **MENCARI MEDIAN**"
      ]
    },
    {
      "cell_type": "code",
      "metadata": {
        "colab": {
          "base_uri": "https://localhost:8080/"
        },
        "id": "8rIKrjwqRAjf",
        "outputId": "1d6b5f1c-398f-4afb-e553-7280bf63fdfd"
      },
      "source": [
        "usd = df[\"usd_pledged_real\"]\n",
        "np.median(usd)"
      ],
      "execution_count": 20,
      "outputs": [
        {
          "output_type": "execute_result",
          "data": {
            "text/plain": [
              "624.33"
            ]
          },
          "metadata": {
            "tags": []
          },
          "execution_count": 20
        }
      ]
    },
    {
      "cell_type": "code",
      "metadata": {
        "colab": {
          "base_uri": "https://localhost:8080/"
        },
        "id": "8tvC35BtRPqt",
        "outputId": "ec544e55-b808-4837-e7e6-50f40c3d661d"
      },
      "source": [
        "usd_goal = df[\"usd_goal_real\"]\n",
        "np.median(usd_goal)"
      ],
      "execution_count": 21,
      "outputs": [
        {
          "output_type": "execute_result",
          "data": {
            "text/plain": [
              "5500.0"
            ]
          },
          "metadata": {
            "tags": []
          },
          "execution_count": 21
        }
      ]
    },
    {
      "cell_type": "code",
      "metadata": {
        "colab": {
          "base_uri": "https://localhost:8080/"
        },
        "id": "ZkH-vboZUYBu",
        "outputId": "f9495de4-56f3-41ca-81b2-61e8830236b3"
      },
      "source": [
        "df.goal.median()"
      ],
      "execution_count": 22,
      "outputs": [
        {
          "output_type": "execute_result",
          "data": {
            "text/plain": [
              "5200.0"
            ]
          },
          "metadata": {
            "tags": []
          },
          "execution_count": 22
        }
      ]
    },
    {
      "cell_type": "markdown",
      "metadata": {
        "id": "JZ-figbiRp8x"
      },
      "source": [
        "# **MENCARI MODUS**"
      ]
    },
    {
      "cell_type": "code",
      "metadata": {
        "colab": {
          "base_uri": "https://localhost:8080/"
        },
        "id": "EHDSGwO8YZCE",
        "outputId": "4744938c-9701-4c5b-8c17-7c1d6638d123"
      },
      "source": [
        "ctg = df[\"category\"]\n",
        "print(ctg.mode())"
      ],
      "execution_count": 23,
      "outputs": [
        {
          "output_type": "stream",
          "text": [
            "0    Product Design\n",
            "dtype: object\n"
          ],
          "name": "stdout"
        }
      ]
    },
    {
      "cell_type": "code",
      "metadata": {
        "colab": {
          "base_uri": "https://localhost:8080/"
        },
        "id": "CO3hRCTiY-jh",
        "outputId": "401832ad-0577-4a5a-b440-7782f78dee57"
      },
      "source": [
        "main_ctg = df[\"main_category\"]\n",
        "print(main_ctg.mode())"
      ],
      "execution_count": 24,
      "outputs": [
        {
          "output_type": "stream",
          "text": [
            "0    Film & Video\n",
            "dtype: object\n"
          ],
          "name": "stdout"
        }
      ]
    },
    {
      "cell_type": "markdown",
      "metadata": {
        "id": "qBMqh5tyZqEn"
      },
      "source": [
        "# **MENCARI RANGE**"
      ]
    },
    {
      "cell_type": "code",
      "metadata": {
        "colab": {
          "base_uri": "https://localhost:8080/"
        },
        "id": "aYa-BjPoZuj2",
        "outputId": "8dd7f797-7b34-442b-9dcf-d2fd62b58733"
      },
      "source": [
        "import pandas as pd\n",
        "df = pd.DataFrame({'main_category' : ['Technology', 'Music', 'Design', 'Film & Video', 'Comics', 'Art', 'Fashion'],\n",
        "                   'goal' : [1000,2500,3500,5000,10000,12000,15000],\n",
        "                   'backers' : [15,100,549,632,855,180,750],\n",
        "                   'pledged' : [220,453,1283,8233,664,1781,10000]})\n",
        "numcols = ['goal', 'backers', 'pledged']\n",
        "for col in numcols:\n",
        "  print(df[col].name + 'range: ' + str(df[col].max() - df[col].min()))"
      ],
      "execution_count": 172,
      "outputs": [
        {
          "output_type": "stream",
          "text": [
            "goalrange: 14000\n",
            "backersrange: 840\n",
            "pledgedrange: 9780\n"
          ],
          "name": "stdout"
        }
      ]
    },
    {
      "cell_type": "markdown",
      "metadata": {
        "id": "9cSVOWY2Z-0A"
      },
      "source": [
        "# **MENCARI VARIANCE**"
      ]
    },
    {
      "cell_type": "code",
      "metadata": {
        "colab": {
          "base_uri": "https://localhost:8080/"
        },
        "id": "mARKAJeyYwyY",
        "outputId": "52d3cf8c-50a3-4fdf-a9b6-1318f8006a88"
      },
      "source": [
        "import pandas as pd\n",
        "df = pd.DataFrame({'main_category' : ['Technology', 'Music', 'Design', 'Film & Video', 'Comics', 'Art', 'Fashion'],\n",
        "                   'goal' : [1000,2500,3500,5000,10000,12000,15000],\n",
        "                   'backers' : [15,100,549,632,855,180,750],\n",
        "                   'pledged' : [220,453,1283,8233,664,1781,10000]})\n",
        "print(df['goal'].var())"
      ],
      "execution_count": 173,
      "outputs": [
        {
          "output_type": "stream",
          "text": [
            "28416666.666666668\n"
          ],
          "name": "stdout"
        }
      ]
    },
    {
      "cell_type": "markdown",
      "metadata": {
        "id": "10-6ZBkJaC_4"
      },
      "source": [
        "# **MENCARI STANDAR DEVIASI**"
      ]
    },
    {
      "cell_type": "code",
      "metadata": {
        "colab": {
          "base_uri": "https://localhost:8080/"
        },
        "id": "lH-BcYkvw5cu",
        "outputId": "7d2353c4-ccd7-480f-a6d9-37ee6ef0c867"
      },
      "source": [
        "import pandas as pd\n",
        "df = pd.DataFrame({'main_category' : df['main_category'],\n",
        "                   'goal' : df['goal'],\n",
        "                   'backers' : df['backers'],\n",
        "                   'pledged' : df['pledged']})\n",
        "print(df['goal'].std())"
      ],
      "execution_count": 174,
      "outputs": [
        {
          "output_type": "stream",
          "text": [
            "5330.728530573158\n"
          ],
          "name": "stdout"
        }
      ]
    },
    {
      "cell_type": "code",
      "metadata": {
        "colab": {
          "base_uri": "https://localhost:8080/"
        },
        "id": "d2O_bYF7Y4eR",
        "outputId": "46f084b3-8863-4057-e708-625d43c2ae05"
      },
      "source": [
        "import pandas as pd\n",
        "df = pd.DataFrame({'main_category' : ['Technology', 'Music', 'Design', 'Film & Video', 'Comics', 'Art', 'Fashion'],\n",
        "                   'goal' : [1000,2500,3500,5000,10000,12000,15000],\n",
        "                   'backers' : [15,100,549,632,855,180,750],\n",
        "                   'pledged' : [220,453,1283,8233,664,1781,10000]})\n",
        "print(df['goal'].std())"
      ],
      "execution_count": 175,
      "outputs": [
        {
          "output_type": "stream",
          "text": [
            "5330.728530573158\n"
          ],
          "name": "stdout"
        }
      ]
    },
    {
      "cell_type": "markdown",
      "metadata": {
        "id": "fWB6d0tyaKSS"
      },
      "source": [
        "# **CONFIDENCE INTERVAL**"
      ]
    },
    {
      "cell_type": "code",
      "metadata": {
        "colab": {
          "base_uri": "https://localhost:8080/",
          "height": 332
        },
        "id": "lYD8-ohdf3nU",
        "outputId": "c092aaf8-ad9b-4caf-eb28-46c2115dcb99"
      },
      "source": [
        "import scipy.stats as stats\n",
        "import matplotlib.pyplot as plt\n",
        "\n",
        "pledge = df['pledged']\n",
        "m = pledge.mean() #nilai mean dari kolom pledged\n",
        "s = pledge.std()  #nilai standar derivasi dari kolom pledged\n",
        "c = stats.norm.interval(0.95, m, s) #nilai ci\n",
        "\n",
        "pledge.plot.hist(title='Sample Distribusi', bins=100, density=True) \n",
        "plt.axvline(m, color='yellow', linestyle='dashed', linewidth=2)\n",
        "plt.axvline(c[0], color='green', linestyle='dashed', linewidth=2)\n",
        "plt.axvline(c[1], color='green', linestyle='dashed', linewidth=2)\n",
        "plt.show()\n",
        "\n",
        "print ('Mean Dari Sample: ' + str(m))\n",
        "print ('StdErr Dari Sample: ' + str(s))\n",
        "print ('Confidence Interval (95%): ' + str(c))"
      ],
      "execution_count": 160,
      "outputs": [
        {
          "output_type": "display_data",
          "data": {
            "image/png": "[encoded data removed]",
            "text/plain": [
              "<Figure size 432x288 with 1 Axes>"
            ]
          },
          "metadata": {
            "tags": [],
            "needs_background": "light"
          }
        },
        {
          "output_type": "stream",
          "text": [
            "Mean Dari Sample: 3233.4285714285716\n",
            "StdErr Dari Sample: 4084.715855362233\n",
            "Confidence Interval (95%): (-4772.467392161126, 11239.32453501827)\n"
          ],
          "name": "stdout"
        }
      ]
    },
    {
      "cell_type": "code",
      "metadata": {
        "colab": {
          "base_uri": "https://localhost:8080/",
          "height": 332
        },
        "id": "1MflSOYwicCJ",
        "outputId": "3e8aa0b0-0f9a-404e-f6fc-5db5fae0c879"
      },
      "source": [
        "import scipy.stats as stats\n",
        "import matplotlib.pyplot as plt\n",
        "\n",
        "backer = df['backers']\n",
        "m = backer.mean() #nilai mean dari kolom backers\n",
        "s = backer.std()  #nilai standar derivasi dari kolom backers\n",
        "c = stats.norm.interval(0.95, m, s) #nilai ci\n",
        "\n",
        "backer.plot.hist(title='Sample Distribusi', bins=100, density=True) \n",
        "plt.axvline(m, color='yellow', linestyle='dashed', linewidth=2)\n",
        "plt.axvline(c[0], color='green', linestyle='dashed', linewidth=2)\n",
        "plt.axvline(c[1], color='green', linestyle='dashed', linewidth=2)\n",
        "plt.show()\n",
        "\n",
        "print ('Mean Dari Sample: ' + str(m))\n",
        "print ('StdErr Dari Sample: ' + str(s))\n",
        "print ('Confidence Interval (95%): ' + str(c))"
      ],
      "execution_count": 161,
      "outputs": [
        {
          "output_type": "display_data",
          "data": {
            "image/png": "[encoded data removed]",
            "text/plain": [
              "<Figure size 432x288 with 1 Axes>"
            ]
          },
          "metadata": {
            "tags": [],
            "needs_background": "light"
          }
        },
        {
          "output_type": "stream",
          "text": [
            "Mean Dari Sample: 440.14285714285717\n",
            "StdErr Dari Sample: 336.8716019353311\n",
            "Confidence Interval (95%): (-220.11335006470534, 1100.3990643504196)\n"
          ],
          "name": "stdout"
        }
      ]
    },
    {
      "cell_type": "code",
      "metadata": {
        "colab": {
          "base_uri": "https://localhost:8080/",
          "height": 332
        },
        "id": "bw6k6ew9i5ZV",
        "outputId": "1caca4f4-beb5-4fce-c78a-bea46b085bd5"
      },
      "source": [
        "import scipy.stats as stats\n",
        "import matplotlib.pyplot as plt\n",
        "\n",
        "goals = df['goal']\n",
        "m = goals.mean() #nilai mean dari kolom backers\n",
        "s = goals.std()  #nilai standar derivasi dari kolom backers\n",
        "c = stats.norm.interval(0.95, m, s) #nilai ci\n",
        "\n",
        "goals.plot.hist(title='Sample Distribusi', bins=100, density=True) \n",
        "plt.axvline(m, color='yellow', linestyle='dashed', linewidth=2)\n",
        "plt.axvline(c[0], color='green', linestyle='dashed', linewidth=2)\n",
        "plt.axvline(c[1], color='green', linestyle='dashed', linewidth=2)\n",
        "plt.show()\n",
        "\n",
        "print ('Mean Dari Sample: ' + str(m))\n",
        "print ('StdErr Dari Sample: ' + str(s))\n",
        "print ('Confidence Interval (95%): ' + str(c))"
      ],
      "execution_count": 162,
      "outputs": [
        {
          "output_type": "display_data",
          "data": {
            "image/png": "[encoded data removed]",
            "text/plain": [
              "<Figure size 432x288 with 1 Axes>"
            ]
          },
          "metadata": {
            "tags": [],
            "needs_background": "light"
          }
        },
        {
          "output_type": "stream",
          "text": [
            "Mean Dari Sample: 7000.0\n",
            "StdErr Dari Sample: 5330.728530573158\n",
            "Confidence Interval (95%): (-3448.0359312835153, 17448.035931283513)\n"
          ],
          "name": "stdout"
        }
      ]
    },
    {
      "cell_type": "markdown",
      "metadata": {
        "id": "mT4MQT5OjRZQ"
      },
      "source": [
        "# **HYPOTHESIS TESTING**"
      ]
    },
    {
      "cell_type": "markdown",
      "metadata": {
        "id": "5u9dyGJQJkH6"
      },
      "source": [
        "untuk mencari hipotesis, sebelumnya tentukan h0 dan h1 nya dimana h0 merupakan hubungan antara kolom variabel berhubungan dan h1 merupakan hubungan antara kolom variabel tidak berhubungan"
      ]
    },
    {
      "cell_type": "code",
      "metadata": {
        "colab": {
          "base_uri": "https://localhost:8080/",
          "height": 297
        },
        "id": "28fS4r3Wjbw7",
        "outputId": "b054b877-c9e3-435d-a93a-3abb5101e903"
      },
      "source": [
        "df.groupby(['main_category','backers']).count()"
      ],
      "execution_count": 116,
      "outputs": [
        {
          "output_type": "execute_result",
          "data": {
            "text/html": [
              "<div>\n",
              "<style scoped>\n",
              "    .dataframe tbody tr th:only-of-type {\n",
              "        vertical-align: middle;\n",
              "    }\n",
              "\n",
              "    .dataframe tbody tr th {\n",
              "        vertical-align: top;\n",
              "    }\n",
              "\n",
              "    .dataframe thead th {\n",
              "        text-align: right;\n",
              "    }\n",
              "</style>\n",
              "<table border=\"1\" class=\"dataframe\">\n",
              "  <thead>\n",
              "    <tr style=\"text-align: right;\">\n",
              "      <th></th>\n",
              "      <th></th>\n",
              "      <th>goal</th>\n",
              "      <th>pledged</th>\n",
              "    </tr>\n",
              "    <tr>\n",
              "      <th>main_category</th>\n",
              "      <th>backers</th>\n",
              "      <th></th>\n",
              "      <th></th>\n",
              "    </tr>\n",
              "  </thead>\n",
              "  <tbody>\n",
              "    <tr>\n",
              "      <th>Art</th>\n",
              "      <th>180</th>\n",
              "      <td>1</td>\n",
              "      <td>1</td>\n",
              "    </tr>\n",
              "    <tr>\n",
              "      <th>Comics</th>\n",
              "      <th>855</th>\n",
              "      <td>1</td>\n",
              "      <td>1</td>\n",
              "    </tr>\n",
              "    <tr>\n",
              "      <th>Design</th>\n",
              "      <th>549</th>\n",
              "      <td>1</td>\n",
              "      <td>1</td>\n",
              "    </tr>\n",
              "    <tr>\n",
              "      <th>Fashion</th>\n",
              "      <th>750</th>\n",
              "      <td>1</td>\n",
              "      <td>1</td>\n",
              "    </tr>\n",
              "    <tr>\n",
              "      <th>Film &amp; Video</th>\n",
              "      <th>632</th>\n",
              "      <td>1</td>\n",
              "      <td>1</td>\n",
              "    </tr>\n",
              "    <tr>\n",
              "      <th>Music</th>\n",
              "      <th>100</th>\n",
              "      <td>1</td>\n",
              "      <td>1</td>\n",
              "    </tr>\n",
              "    <tr>\n",
              "      <th>Technology</th>\n",
              "      <th>15</th>\n",
              "      <td>1</td>\n",
              "      <td>1</td>\n",
              "    </tr>\n",
              "  </tbody>\n",
              "</table>\n",
              "</div>"
            ],
            "text/plain": [
              "                       goal  pledged\n",
              "main_category backers               \n",
              "Art           180         1        1\n",
              "Comics        855         1        1\n",
              "Design        549         1        1\n",
              "Fashion       750         1        1\n",
              "Film & Video  632         1        1\n",
              "Music         100         1        1\n",
              "Technology    15          1        1"
            ]
          },
          "metadata": {
            "tags": []
          },
          "execution_count": 116
        }
      ]
    },
    {
      "cell_type": "code",
      "metadata": {
        "colab": {
          "base_uri": "https://localhost:8080/"
        },
        "id": "xibVEPXxj4bQ",
        "outputId": "ebf72bfd-faf4-4e46-f7ff-3a883912beb4"
      },
      "source": [
        "mean_art=df[df.main_category=='Art']['backers'].mean()\n",
        "mean_comic=df[df.main_category=='Comics']['backers'].mean()\n",
        "mean_dsg=df[df.main_category=='Design']['backers'].mean()\n",
        "mean_fash=df[df.main_category=='Fashion']['backers'].mean()\n",
        "mean_filmvid=df[df.main_category=='Film & Video']['backers'].mean()\n",
        "mean_msc=df[df.main_category=='Music']['backers'].mean()\n",
        "mean_tech=df[df.main_category=='Technology']['backers'].mean()\n",
        "\n",
        "\n",
        "\n",
        "std_art=df[df.main_category=='Art']['backers'].std()\n",
        "std_comic=df[df.main_category=='Comics']['backers'].std()\n",
        "std_dsg=df[df.main_category=='Design']['backers'].std()\n",
        "std_fash=df[df.main_category=='Fashion']['backers'].std()\n",
        "std_filmvid=df[df.main_category=='Film & Video']['backers'].std()\n",
        "std_msc=df[df.main_category=='Music']['backers'].std()\n",
        "std_tech=df[df.main_category=='Technology']['backers'].std()\n",
        "\n",
        "print('mean art:',mean_art,',std art:',std_art)\n",
        "print('mean comic:',mean_comic,',std comic:',std_comic)\n",
        "print('mean design:',mean_dsg,',std design:',std_dsg)\n",
        "print('mean fashion:',mean_fash,',std fashion:',std_fash)\n",
        "print('mean film & video:',mean_filmvid,',std film & video:',std_filmvid)\n",
        "print('mean music:',mean_msc,',std music:',std_msc)\n",
        "print('mean tech:',mean_tech,',std tech:',std_tech)"
      ],
      "execution_count": 169,
      "outputs": [
        {
          "output_type": "stream",
          "text": [
            "mean art: 180.0 ,std art: nan\n",
            "mean comic: 855.0 ,std comic: nan\n",
            "mean design: 549.0 ,std design: nan\n",
            "mean fashion: 750.0 ,std fashion: nan\n",
            "mean film & video: 632.0 ,std film & video: nan\n",
            "mean music: 100.0 ,std music: nan\n",
            "mean tech: 15.0 ,std tech: nan\n"
          ],
          "name": "stdout"
        }
      ]
    },
    {
      "cell_type": "code",
      "metadata": {
        "colab": {
          "base_uri": "https://localhost:8080/"
        },
        "id": "bM1So89tpkPO",
        "outputId": "6cc63087-b877-46df-95d5-b9502b8396a6"
      },
      "source": [
        "def permutation_sample(data1, data2):\n",
        "    \"\"\"Generate a permutation sample from two data sets.\"\"\"\n",
        "\n",
        "    # Concatenate the data sets: data\n",
        "    data = np.concatenate([data1,data2])\n",
        "\n",
        "    # Permute the concatenated array: permuted_data\n",
        "    permuted_data = np.random.permutation(data)\n",
        "\n",
        "    # Split the permuted array into two: perm_sample_1, perm_sample_2\n",
        "    perm_sample_1 = permuted_data[:len(data1)]\n",
        "    perm_sample_2 = permuted_data[len(data1):]\n",
        "\n",
        "    return perm_sample_1, perm_sample_2\n",
        "\n",
        "def diff_frac(data_A, data_B):\n",
        "    frac_A = np.sum(data_A) / len(data_A)\n",
        "    frac_B = np.sum(data_B) / len(data_B)\n",
        "    return frac_B - frac_A\n",
        "\n",
        "def draw_perm_reps(data_1, data_2, func, size=1):\n",
        "    \"\"\"Generate multiple permutation replicates.\"\"\"\n",
        "\n",
        "    # Initialize array of replicates: perm_replicates\n",
        "    perm_replicates = np.empty(size)\n",
        "\n",
        "    for i in range(size):\n",
        "        # Generate permutation sample\n",
        "        perm_sample_1, perm_sample_2 = permutation_sample(data_1,data_2)\n",
        "\n",
        "        # Compute the test statistic\n",
        "        perm_replicates[i] = func(perm_sample_1,perm_sample_2)\n",
        "\n",
        "    return perm_replicates\n",
        "\n",
        "# Compute difference of mean impact force from experiment\n",
        "diff_frac_obs = diff_frac(art, tech)\n",
        "\n",
        "# Draw 10,000 permutation replicates\n",
        "perm_replicates = draw_perm_reps(art, tech ,diff_frac, size=10000)\n",
        "    \n",
        "p_value = np.sum(perm_replicates >= diff_frac_obs) / 10000\n",
        "print('The p-value is %f' % p_value)"
      ],
      "execution_count": 165,
      "outputs": [
        {
          "output_type": "stream",
          "text": [
            "The p-value is 0.000000\n"
          ],
          "name": "stdout"
        }
      ]
    },
    {
      "cell_type": "code",
      "metadata": {
        "colab": {
          "base_uri": "https://localhost:8080/",
          "height": 331
        },
        "id": "yZ-yc4MwJLRx",
        "outputId": "d8b527c7-e963-47c4-c088-c7d465326f63"
      },
      "source": [
        "df_crosstab = pd.crosstab(df['pledged'], df['goal'])\n",
        "chisq, pvalue, df, expected = stats.chi2_contingency(df_crosstab)\n",
        "print(f'chi2: {chisq:.2f}')\n",
        "print(f'P-value: {pvalue:.4f}')\n",
        "df_crosstab"
      ],
      "execution_count": 176,
      "outputs": [
        {
          "output_type": "stream",
          "text": [
            "chi2: 42.00\n",
            "P-value: 0.2270\n"
          ],
          "name": "stdout"
        },
        {
          "output_type": "execute_result",
          "data": {
            "text/html": [
              "<div>\n",
              "<style scoped>\n",
              "    .dataframe tbody tr th:only-of-type {\n",
              "        vertical-align: middle;\n",
              "    }\n",
              "\n",
              "    .dataframe tbody tr th {\n",
              "        vertical-align: top;\n",
              "    }\n",
              "\n",
              "    .dataframe thead th {\n",
              "        text-align: right;\n",
              "    }\n",
              "</style>\n",
              "<table border=\"1\" class=\"dataframe\">\n",
              "  <thead>\n",
              "    <tr style=\"text-align: right;\">\n",
              "      <th>goal</th>\n",
              "      <th>1000</th>\n",
              "      <th>2500</th>\n",
              "      <th>3500</th>\n",
              "      <th>5000</th>\n",
              "      <th>10000</th>\n",
              "      <th>12000</th>\n",
              "      <th>15000</th>\n",
              "    </tr>\n",
              "    <tr>\n",
              "      <th>pledged</th>\n",
              "      <th></th>\n",
              "      <th></th>\n",
              "      <th></th>\n",
              "      <th></th>\n",
              "      <th></th>\n",
              "      <th></th>\n",
              "      <th></th>\n",
              "    </tr>\n",
              "  </thead>\n",
              "  <tbody>\n",
              "    <tr>\n",
              "      <th>220</th>\n",
              "      <td>1</td>\n",
              "      <td>0</td>\n",
              "      <td>0</td>\n",
              "      <td>0</td>\n",
              "      <td>0</td>\n",
              "      <td>0</td>\n",
              "      <td>0</td>\n",
              "    </tr>\n",
              "    <tr>\n",
              "      <th>453</th>\n",
              "      <td>0</td>\n",
              "      <td>1</td>\n",
              "      <td>0</td>\n",
              "      <td>0</td>\n",
              "      <td>0</td>\n",
              "      <td>0</td>\n",
              "      <td>0</td>\n",
              "    </tr>\n",
              "    <tr>\n",
              "      <th>664</th>\n",
              "      <td>0</td>\n",
              "      <td>0</td>\n",
              "      <td>0</td>\n",
              "      <td>0</td>\n",
              "      <td>1</td>\n",
              "      <td>0</td>\n",
              "      <td>0</td>\n",
              "    </tr>\n",
              "    <tr>\n",
              "      <th>1283</th>\n",
              "      <td>0</td>\n",
              "      <td>0</td>\n",
              "      <td>1</td>\n",
              "      <td>0</td>\n",
              "      <td>0</td>\n",
              "      <td>0</td>\n",
              "      <td>0</td>\n",
              "    </tr>\n",
              "    <tr>\n",
              "      <th>1781</th>\n",
              "      <td>0</td>\n",
              "      <td>0</td>\n",
              "      <td>0</td>\n",
              "      <td>0</td>\n",
              "      <td>0</td>\n",
              "      <td>1</td>\n",
              "      <td>0</td>\n",
              "    </tr>\n",
              "    <tr>\n",
              "      <th>8233</th>\n",
              "      <td>0</td>\n",
              "      <td>0</td>\n",
              "      <td>0</td>\n",
              "      <td>1</td>\n",
              "      <td>0</td>\n",
              "      <td>0</td>\n",
              "      <td>0</td>\n",
              "    </tr>\n",
              "    <tr>\n",
              "      <th>10000</th>\n",
              "      <td>0</td>\n",
              "      <td>0</td>\n",
              "      <td>0</td>\n",
              "      <td>0</td>\n",
              "      <td>0</td>\n",
              "      <td>0</td>\n",
              "      <td>1</td>\n",
              "    </tr>\n",
              "  </tbody>\n",
              "</table>\n",
              "</div>"
            ],
            "text/plain": [
              "goal     1000   2500   3500   5000   10000  12000  15000\n",
              "pledged                                                 \n",
              "220          1      0      0      0      0      0      0\n",
              "453          0      1      0      0      0      0      0\n",
              "664          0      0      0      0      1      0      0\n",
              "1283         0      0      1      0      0      0      0\n",
              "1781         0      0      0      0      0      1      0\n",
              "8233         0      0      0      1      0      0      0\n",
              "10000        0      0      0      0      0      0      1"
            ]
          },
          "metadata": {
            "tags": []
          },
          "execution_count": 176
        }
      ]
    },
    {
      "cell_type": "markdown",
      "metadata": {
        "id": "PC-KzD11JTTV"
      },
      "source": [
        "# **HASIL ANALISA HIPOTESIS**"
      ]
    },
    {
      "cell_type": "markdown",
      "metadata": {
        "id": "ez0jZhviJXu8"
      },
      "source": [
        "Hasil p-value yang dikeluarkan dari hasil hipotesis adalah 0.2270 sehingga nilai p value lebih tinggi treshold yaitu α = 0.05 sehingga kesimpulan didapatlan bahwa **h0 diterima dan h1 ditolak**"
      ]
    }
  ]
}